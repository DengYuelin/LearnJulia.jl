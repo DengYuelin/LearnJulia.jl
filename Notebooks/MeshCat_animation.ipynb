{
 "cells": [
  {
   "cell_type": "markdown",
   "metadata": {},
   "source": [
    "# MeshCat Animations\n",
    "\n",
    "MeshCat.jl also provides an animation interface, built on top of the [three.js animation system](https://threejs.org/docs/#manual/introduction/Animation-system). While it is possible to construct animation clips and tracks manually, just as you would in Three.js, it's generally easier to use the MeshCat `Animation` type.\n",
    "\n",
    "Let's show off building a simple animation. We first have to create our scene: "
   ]
  },
  {
   "cell_type": "code",
   "execution_count": 1,
   "metadata": {},
   "outputs": [
    {
     "output_type": "stream",
     "name": "stderr",
     "text": [
      "\u001b[32m\u001b[1m Activating\u001b[22m\u001b[39m environment at `d:\\Users\\Personal\\Personal\\Projects\\GitRepo\\LearnJulia\\Ex\\Project.toml`\n"
     ]
    },
    {
     "output_type": "error",
     "ename": "LoadError",
     "evalue": "could not find project file in package at `d:\\Users\\Personal\\Personal\\Projects\\GitRepo\\LearnJulia` maybe `subdir` needs to be specified",
     "traceback": [
      "could not find project file in package at `d:\\Users\\Personal\\Personal\\Projects\\GitRepo\\LearnJulia` maybe `subdir` needs to be specified",
      "",
      "Stacktrace:",
      " [1] pkgerror(::String, ::Vararg{String,N} where N) at C:\\buildbot\\worker\\package_win64\\build\\usr\\share\\julia\\stdlib\\v1.5\\Pkg\\src\\Types.jl:52",
      " [2] resolve_projectfile!(::Pkg.Types.Context, ::Pkg.Types.PackageSpec, ::String) at C:\\buildbot\\worker\\package_win64\\build\\usr\\share\\julia\\stdlib\\v1.5\\Pkg\\src\\Types.jl:672",
      " [3] handle_repo_develop!(::Pkg.Types.Context, ::Pkg.Types.PackageSpec, ::Bool) at C:\\buildbot\\worker\\package_win64\\build\\usr\\share\\julia\\stdlib\\v1.5\\Pkg\\src\\Types.jl:455",
      " [4] handle_repos_develop!(::Pkg.Types.Context, ::Array{Pkg.Types.PackageSpec,1}, ::Bool) at C:\\buildbot\\worker\\package_win64\\build\\usr\\share\\julia\\stdlib\\v1.5\\Pkg\\src\\Types.jl:529",
      " [5] develop(::Pkg.Types.Context, ::Array{Pkg.Types.PackageSpec,1}; shared::Bool, preserve::Pkg.Types.PreserveLevel, platform::Pkg.BinaryPlatforms.Windows, kwargs::Base.Iterators.Pairs{Union{},Union{},Tuple{},NamedTuple{(),Tuple{}}}) at C:\\buildbot\\worker\\package_win64\\build\\usr\\share\\julia\\stdlib\\v1.5\\Pkg\\src\\API.jl:122",
      " [6] develop(::Pkg.Types.Context, ::Array{Pkg.Types.PackageSpec,1}) at C:\\buildbot\\worker\\package_win64\\build\\usr\\share\\julia\\stdlib\\v1.5\\Pkg\\src\\API.jl:93",
      " [7] #develop#13 at C:\\buildbot\\worker\\package_win64\\build\\usr\\share\\julia\\stdlib\\v1.5\\Pkg\\src\\API.jl:67 [inlined]",
      " [8] develop at C:\\buildbot\\worker\\package_win64\\build\\usr\\share\\julia\\stdlib\\v1.5\\Pkg\\src\\API.jl:67 [inlined]",
      " [9] #develop#11 at C:\\buildbot\\worker\\package_win64\\build\\usr\\share\\julia\\stdlib\\v1.5\\Pkg\\src\\API.jl:65 [inlined]",
      " [10] develop(::Pkg.Types.PackageSpec) at C:\\buildbot\\worker\\package_win64\\build\\usr\\share\\julia\\stdlib\\v1.5\\Pkg\\src\\API.jl:65",
      " [11] top-level scope at In[1]:8",
      " [12] include_string(::Function, ::Module, ::String, ::String) at .\\loading.jl:1091"
     ]
    }
   ],
   "source": [
    "# Optional: \n",
    "# These commands tell the Julia package manager to use the exact\n",
    "# set of dependencies specified in the Project.toml file in this folder. \n",
    "# That should give you a nice, reproducible environment for testing. \n",
    "\n",
    "using Pkg\n",
    "Pkg.activate(@__DIR__)\n",
    "Pkg.develop(Pkg.PackageSpec(path=dirname(@__DIR__)))\n",
    "Pkg.instantiate()"
   ]
  },
  {
   "cell_type": "code",
   "execution_count": 4,
   "metadata": {},
   "outputs": [],
   "source": [
    "using MeshCat, GeometryBasics, CoordinateTransformations"
   ]
  },
  {
   "cell_type": "code",
   "execution_count": 5,
   "metadata": {},
   "outputs": [
    {
     "output_type": "stream",
     "name": "stderr",
     "text": [
      "┌ Info: MeshCat server started. You can open the visualizer by visiting the following URL in your browser:\n│ http://127.0.0.1:8702\n└ @ MeshCat C:\\Users\\dengy\\.julia\\packages\\MeshCat\\DjQfQ\\src\\visualizer.jl:73\n"
     ]
    },
    {
     "output_type": "execute_result",
     "data": {
      "text/plain": [
       "MeshCat Visualizer with path /meshcat at http://127.0.0.1:8702"
      ]
     },
     "metadata": {},
     "execution_count": 5
    }
   ],
   "source": [
    "vis = Visualizer()"
   ]
  },
  {
   "cell_type": "code",
   "execution_count": 15,
   "metadata": {},
   "outputs": [
    {
     "output_type": "execute_result",
     "data": {
      "text/plain": [
       "Process(`\u001b[4mcmd.exe\u001b[24m \u001b[4m/C\u001b[24m \u001b[4m'start http://127.0.0.1:8702'\u001b[24m`, ProcessExited(0))"
      ]
     },
     "metadata": {},
     "execution_count": 15
    }
   ],
   "source": [
    "## To open the visualizer in a new browser tab, do: \n",
    "# open(vis)\n",
    "\n",
    "## To open the visualizer inside this jupyter notebook, do: \n",
    "# render(vis)\n",
    "\n",
    "## To open this visualizer in a standalone window, do:\n",
    "# using Blink\n",
    "# AtomShell.isinstalled() || AtomShell.install()\n",
    "# open(vis, Window())\n",
    "\n",
    "open(vis)"
   ]
  },
  {
   "cell_type": "code",
   "execution_count": 16,
   "metadata": {},
   "outputs": [
    {
     "output_type": "execute_result",
     "data": {
      "text/plain": [
       "MeshCat Visualizer with path /meshcat/box1 at http://127.0.0.1:8702"
      ]
     },
     "metadata": {},
     "execution_count": 16
    }
   ],
   "source": [
    "setobject!(vis[:box1], \n",
    "    Rect(Vec(0., 0, 0), Vec(0.1, 0.2, 0.3)))"
   ]
  },
  {
   "cell_type": "markdown",
   "metadata": {},
   "source": [
    "### Building an Animation\n",
    "\n",
    "We construct an animation by first creating a blank `Animation()` object. We can then use the `atframe` function to set properties or transforms of the animation at specific frames of the animation. Three.js will automatically interpolate between whatever values we provide. \n",
    "\n",
    "For example, let's animate moving the box from [0, 0, 0] to [0, 1, 0]: "
   ]
  },
  {
   "cell_type": "code",
   "execution_count": 17,
   "metadata": {},
   "outputs": [],
   "source": [
    "anim = Animation()\n",
    "\n",
    "atframe(anim, 0) do\n",
    "    # within the context of atframe, calls to \n",
    "    # `settransform!` and `setprop!` are intercepted\n",
    "    # and recorded in `anim` instead of having any\n",
    "    # effect on `vis`.\n",
    "    settransform!(vis[:box1], Translation(0., 0, 0))\n",
    "end\n",
    "\n",
    "atframe(anim, 30) do\n",
    "    settransform!(vis[:box1], Translation(0., 1, 0))\n",
    "end\n",
    "\n",
    "# `setanimation!()` actually sends the animation to the\n",
    "# viewer. By default, the viewer will play the animation\n",
    "# right away. To avoid that, you can also pass `play=false`. \n",
    "setanimation!(vis, anim)"
   ]
  },
  {
   "cell_type": "markdown",
   "metadata": {},
   "source": [
    "You should see the box slide 1 meter to the right in the viewer. If you missed the animation, you can run it again from the viewer. Click \"Open Controls\", find the \"Animations\" section, and click \"play\". "
   ]
  },
  {
   "cell_type": "markdown",
   "metadata": {},
   "source": [
    "### Animating the Camera\n",
    "\n",
    "The camera is just another object in the MeshCat scene. To set its transform, we just need to index into the visualizer with the right path (note the leading `/`):"
   ]
  },
  {
   "cell_type": "code",
   "execution_count": 18,
   "metadata": {},
   "outputs": [
    {
     "output_type": "execute_result",
     "data": {
      "text/plain": [
       "MeshCat Visualizer with path /Cameras/default at http://127.0.0.1:8702"
      ]
     },
     "metadata": {},
     "execution_count": 18
    }
   ],
   "source": [
    "settransform!(vis[\"/Cameras/default\"], Translation(0, 0, 1))"
   ]
  },
  {
   "cell_type": "markdown",
   "metadata": {},
   "source": [
    "To animate the camera, we just have to do that same kind of `settransform!` to individual frames in an animation: "
   ]
  },
  {
   "cell_type": "code",
   "execution_count": 19,
   "metadata": {},
   "outputs": [],
   "source": [
    "anim = Animation()\n",
    "\n",
    "atframe(anim, 0) do\n",
    "    settransform!(vis[\"/Cameras/default\"], Translation(0., 0, 0))\n",
    "end\n",
    "\n",
    "atframe(anim, 30) do\n",
    "    settransform!(vis[\"/Cameras/default\"], Translation(0., 0, 1))\n",
    "end\n",
    " \n",
    "setanimation!(vis, anim)"
   ]
  },
  {
   "cell_type": "markdown",
   "metadata": {},
   "source": [
    "We can also animate object properties. For example, let's animate the camera's `zoom` property to smoothly zoom out and then back in. Note that to do this, we have to access a deeper path in the visualizer to get to the actual camera object. For more information, see: https://github.com/rdeits/meshcat#camera-control"
   ]
  },
  {
   "cell_type": "code",
   "execution_count": 20,
   "metadata": {},
   "outputs": [],
   "source": [
    "anim = Animation()\n",
    "\n",
    "atframe(anim, 0) do\n",
    "    setprop!(vis[\"/Cameras/default/rotated/<object>\"], \"zoom\", 1)\n",
    "end\n",
    "\n",
    "atframe(anim, 30) do\n",
    "    setprop!(vis[\"/Cameras/default/rotated/<object>\"], \"zoom\", 0.5)\n",
    "end\n",
    "\n",
    "atframe(anim, 60) do\n",
    "    setprop!(vis[\"/Cameras/default/rotated/<object>\"], \"zoom\", 1)\n",
    "end\n",
    " \n",
    "setanimation!(vis, anim)"
   ]
  },
  {
   "cell_type": "markdown",
   "metadata": {},
   "source": [
    "## Making Objects Appear and Disappear\n",
    "\n",
    "MeshCat does not support adding or deleting objects in frames of an animation. Instead, you will need to call `setobject!` ahead of time to add all the objects in the scene, then call `setvisible!` on individual frames to toggle the visibility of objects on and off. \n",
    "\n",
    "Let's demonstrate this by animating a moving box and a sphere which appears halfway through the animation:"
   ]
  },
  {
   "cell_type": "code",
   "execution_count": 21,
   "metadata": {},
   "outputs": [
    {
     "output_type": "execute_result",
     "data": {
      "text/plain": [
       "MeshCat Visualizer with path /meshcat/sphere at http://127.0.0.1:8702"
      ]
     },
     "metadata": {},
     "execution_count": 21
    }
   ],
   "source": [
    "setobject!(vis[:box1], \n",
    "    Rect(Vec(0., 0, 0), Vec(0.1, 0.2, 0.3)))\n",
    "setobject!(vis[:sphere],\n",
    "    HyperSphere(Point(0., 0, 0), 0.25))\n",
    "\n",
    "# Start with the sphere hidden\n",
    "setvisible!(vis[:sphere], false)"
   ]
  },
  {
   "cell_type": "code",
   "execution_count": 22,
   "metadata": {},
   "outputs": [],
   "source": [
    "anim = Animation()\n",
    "atframe(anim, 0) do\n",
    "    setvisible!(vis[:sphere], false)\n",
    "    settransform!(vis[:box1], Translation(0., 0, 0))\n",
    "end\n",
    "\n",
    "atframe(anim, 15) do\n",
    "    setvisible!(vis[:sphere], true)\n",
    "end\n",
    "\n",
    "atframe(anim, 30) do\n",
    "    settransform!(vis[:box1], Translation(0., 1, 0))\n",
    "end\n",
    "   \n",
    "setanimation!(vis, anim)"
   ]
  },
  {
   "cell_type": "markdown",
   "metadata": {},
   "source": [
    "### Recording an Animation\n",
    "\n",
    "To record an animation at a smooth, fixed frame rate, click on \"Open Controls\" in the viewer, and then go to \"Animations\" -> \"default\" -> \"Recording\" -> \"record\". This will play the entire animation, recording every frame and then let you download the resulting frames to your computer. \n",
    "\n",
    "To record activity in the MeshCat window that isn't a MeshCat animation, we suggest using a screen-capture tool like Quicktime for macOS or RecordMyDesktop for Linux. "
   ]
  },
  {
   "cell_type": "markdown",
   "metadata": {},
   "source": [
    "### Converting the Animation into a Video\n",
    "\n",
    "Currently, meshcat can only save an animation as a `.tar` file consisting of a  list of `.png` images, one for each frame. To convert that into a video, you can run: "
   ]
  },
  {
   "cell_type": "code",
   "execution_count": 23,
   "metadata": {},
   "outputs": [],
   "source": [
    "# MeshCat.convert_frames_to_video(\n",
    "#     \"/home/rdeits/Downloads/meshcat_1528401494656.tar\")"
   ]
  }
 ],
 "metadata": {
  "@webio": {
   "lastCommId": null,
   "lastKernelId": null
  },
  "kernelspec": {
   "display_name": "Julia 1.5.3",
   "language": "julia",
   "name": "julia-1.5"
  },
  "language_info": {
   "file_extension": ".jl",
   "mimetype": "application/julia",
   "name": "julia",
   "version": "1.5.1"
  }
 },
 "nbformat": 4,
 "nbformat_minor": 2
}