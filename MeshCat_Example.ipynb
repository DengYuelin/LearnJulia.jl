{
 "cells": [
  {
   "source": [
    "# MeshCat.jl\n",
    "\n",
    "This notebook demonstrates interacting with the MeshCat viewer from Julia. You'll need to have installed MeshCat.jl from <https://github.com/rdeits/MeshCat.jl>"
   ],
   "cell_type": "code",
   "metadata": {},
   "execution_count": null,
   "outputs": []
  },
  {
   "cell_type": "code",
   "execution_count": 1,
   "metadata": {},
   "outputs": [
    {
     "output_type": "stream",
     "name": "stderr",
     "text": [
      "\u001b[32m\u001b[1m Activating\u001b[22m\u001b[39m environment at `d:\\Users\\Personal\\Personal\\Projects\\GitRepo\\LearnJulia\\Ex\\Project.toml`\n"
     ]
    },
    {
     "output_type": "error",
     "ename": "LoadError",
     "evalue": "could not find project file in package at `d:\\Users\\Personal\\Personal\\Projects\\GitRepo\\LearnJulia` maybe `subdir` needs to be specified",
     "traceback": [
      "could not find project file in package at `d:\\Users\\Personal\\Personal\\Projects\\GitRepo\\LearnJulia` maybe `subdir` needs to be specified",
      "",
      "Stacktrace:",
      " [1] pkgerror(::String, ::Vararg{String,N} where N) at C:\\buildbot\\worker\\package_win64\\build\\usr\\share\\julia\\stdlib\\v1.5\\Pkg\\src\\Types.jl:52",
      " [2] resolve_projectfile!(::Pkg.Types.Context, ::Pkg.Types.PackageSpec, ::String) at C:\\buildbot\\worker\\package_win64\\build\\usr\\share\\julia\\stdlib\\v1.5\\Pkg\\src\\Types.jl:672",
      " [3] handle_repo_develop!(::Pkg.Types.Context, ::Pkg.Types.PackageSpec, ::Bool) at C:\\buildbot\\worker\\package_win64\\build\\usr\\share\\julia\\stdlib\\v1.5\\Pkg\\src\\Types.jl:455",
      " [4] handle_repos_develop!(::Pkg.Types.Context, ::Array{Pkg.Types.PackageSpec,1}, ::Bool) at C:\\buildbot\\worker\\package_win64\\build\\usr\\share\\julia\\stdlib\\v1.5\\Pkg\\src\\Types.jl:529",
      " [5] develop(::Pkg.Types.Context, ::Array{Pkg.Types.PackageSpec,1}; shared::Bool, preserve::Pkg.Types.PreserveLevel, platform::Pkg.BinaryPlatforms.Windows, kwargs::Base.Iterators.Pairs{Union{},Union{},Tuple{},NamedTuple{(),Tuple{}}}) at C:\\buildbot\\worker\\package_win64\\build\\usr\\share\\julia\\stdlib\\v1.5\\Pkg\\src\\API.jl:122",
      " [6] develop(::Pkg.Types.Context, ::Array{Pkg.Types.PackageSpec,1}) at C:\\buildbot\\worker\\package_win64\\build\\usr\\share\\julia\\stdlib\\v1.5\\Pkg\\src\\API.jl:93",
      " [7] #develop#13 at C:\\buildbot\\worker\\package_win64\\build\\usr\\share\\julia\\stdlib\\v1.5\\Pkg\\src\\API.jl:67 [inlined]",
      " [8] develop at C:\\buildbot\\worker\\package_win64\\build\\usr\\share\\julia\\stdlib\\v1.5\\Pkg\\src\\API.jl:67 [inlined]",
      " [9] #develop#11 at C:\\buildbot\\worker\\package_win64\\build\\usr\\share\\julia\\stdlib\\v1.5\\Pkg\\src\\API.jl:65 [inlined]",
      " [10] develop(::Pkg.Types.PackageSpec) at C:\\buildbot\\worker\\package_win64\\build\\usr\\share\\julia\\stdlib\\v1.5\\Pkg\\src\\API.jl:65",
      " [11] top-level scope at In[1]:8",
      " [12] include_string(::Function, ::Module, ::String, ::String) at .\\loading.jl:1091"
     ]
    }
   ],
   "source": [
    "# Optional: \n",
    "# These commands tell the Julia package manager to use the exact\n",
    "# set of dependencies specified in the Project.toml file in this folder. \n",
    "# That should give you a nice, reproducible environment for testing. \n",
    "\n",
    "using Pkg\n",
    "Pkg.activate(@__DIR__)\n",
    "Pkg.develop(Pkg.PackageSpec(path=dirname(@__DIR__)))\n",
    "Pkg.instantiate()"
   ]
  },
  {
   "cell_type": "code",
   "execution_count": 6,
   "metadata": {},
   "outputs": [],
   "source": [
    "# Activate the MeshCat package, and import some other \n",
    "# useful functions\n",
    "using MeshCat\n",
    "using CoordinateTransformations\n",
    "using Rotations\n",
    "using GeometryBasics: HyperRectangle, Vec, Point, Mesh\n",
    "using Colors: RGBA, RGB"
   ]
  },
  {
   "cell_type": "code",
   "execution_count": 7,
   "metadata": {},
   "outputs": [
    {
     "output_type": "stream",
     "name": "stderr",
     "text": [
      "┌ Info: MeshCat server started. You can open the visualizer by visiting the following URL in your browser:\n│ http://127.0.0.1:8700\n└ @ MeshCat C:\\Users\\dengy\\.julia\\packages\\MeshCat\\DjQfQ\\src\\visualizer.jl:73\n"
     ]
    },
    {
     "output_type": "execute_result",
     "data": {
      "text/plain": [
       "MeshCat Visualizer with path /meshcat at http://127.0.0.1:8700"
      ]
     },
     "metadata": {},
     "execution_count": 7
    }
   ],
   "source": [
    "# Create a new visualizer instance\n",
    "vis = Visualizer()"
   ]
  },
  {
   "cell_type": "code",
   "execution_count": 8,
   "metadata": {},
   "outputs": [
    {
     "output_type": "execute_result",
     "data": {
      "text/plain": [
       "MeshCat.DisplayedVisualizer(MeshCat.CoreVisualizer(MeshCat.SceneTrees.SceneNode(nothing, nothing, Dict{String,Array{UInt8,1}}(), nothing, Dict{String,MeshCat.SceneTrees.SceneNode}()), Set{Any}(), ip\"127.0.0.1\", 8700))"
      ],
      "text/html": "    <div style=\"height: 500px; width: 100%; overflow-x: auto; overflow-y: hidden; resize: both\">\n    <iframe src=\"http://127.0.0.1:8700\" style=\"width: 100%; height: 100%; border: none\"></iframe>\n    </div>\n"
     },
     "metadata": {},
     "execution_count": 8
    }
   ],
   "source": [
    "# The `render(vis)` function will try to render a MeshCat\n",
    "# visualizer inline. In Jupyter, it will cause the visualizer\n",
    "# to be displayed in the output of the current Jupyter cell. \n",
    "# In Juno/VSCode, it will cause the visualizer to be displayed in\n",
    "# the plot pane.\n",
    "render(vis)"
   ]
  },
  {
   "cell_type": "markdown",
   "metadata": {},
   "source": [
    "There are several ways you can open the visualizer if you like:\n",
    "\n",
    "### In-Browser\n",
    "To open the meshcat viewer in your browser, you can simply do:\n",
    "\n",
    "```julia\n",
    "open(vis)\n",
    "```\n",
    "\n",
    "### Standalone (with Blink.jl)\n",
    "\n",
    "Blink.jl allows you to create standalone web apps with Electron. To use\n",
    "Blink with MeshCat, you need to install Blink:\n",
    "\n",
    "```julia\n",
    "Pkg.add(\"Blink\")\n",
    "using Blink\n",
    "Blink.AtomShell.install()\n",
    "```\n",
    "\n",
    "Then you can open MeshCat in a Blink window with:\n",
    "\n",
    "```julia\n",
    "open(vis, Blink.Window())\n",
    "```\n",
    "\n",
    "### Embed the visualizer inside this notebook\n",
    "\n",
    "```julia\n",
    "render(vis)\n",
    "```"
   ]
  },
  {
   "cell_type": "code",
   "execution_count": 9,
   "metadata": {},
   "outputs": [
    {
     "output_type": "execute_result",
     "data": {
      "text/plain": [
       "Process(`\u001b[4mcmd.exe\u001b[24m \u001b[4m/C\u001b[24m \u001b[4m'start http://127.0.0.1:8700'\u001b[24m`, ProcessExited(0))"
      ]
     },
     "metadata": {},
     "execution_count": 9
    }
   ],
   "source": [
    "# We also need to check if this notebook is running on Travis CI\n",
    "# since the browser doesn't work properly there. You shouldn't \n",
    "# need this in your code, and you can just do `open(vis)`.\n",
    "\n",
    "if !haskey(ENV, \"CI\")\n",
    "    open(vis)\n",
    "end\n",
    "\n",
    "# To block execution until the visualizer is open, you can do:\n",
    "# wait(vis)"
   ]
  },
  {
   "cell_type": "code",
   "execution_count": 10,
   "metadata": {},
   "outputs": [
    {
     "output_type": "execute_result",
     "data": {
      "text/plain": [
       "HyperRectangle{3,Float64}([0.0, 0.0, 0.0], [1.0, 1.0, 1.0])"
      ]
     },
     "metadata": {},
     "execution_count": 10
    }
   ],
   "source": [
    "# First, we'll create a simple geometric object\n",
    "box = HyperRectangle(Vec(0., 0, 0), Vec(1., 1, 1))"
   ]
  },
  {
   "cell_type": "code",
   "execution_count": 12,
   "metadata": {},
   "outputs": [
    {
     "output_type": "execute_result",
     "data": {
      "text/plain": [
       "MeshCat Visualizer with path /meshcat at http://127.0.0.1:8700"
      ]
     },
     "metadata": {},
     "execution_count": 12
    }
   ],
   "source": [
    "# setobject! causes the visualizer to render the given geometry. \n",
    "# Initially that geometry will be placed in the zero configuration\n",
    "# (that is, its position and rotation are zero)\n",
    "setobject!(vis, box)"
   ]
  },
  {
   "cell_type": "code",
   "execution_count": 13,
   "metadata": {},
   "outputs": [
    {
     "output_type": "execute_result",
     "data": {
      "text/plain": [
       "MeshCat Visualizer with path /meshcat at http://127.0.0.1:8700"
      ]
     },
     "metadata": {},
     "execution_count": 13
    }
   ],
   "source": [
    "# We can use settransform!() to tell the viewer to draw the box at a specific\n",
    "# position. Translation() creates a CoordinateTransformations.Transformation\n",
    "# corresponding to the given x; y; z translation.\n",
    "settransform!(vis, Translation(0., 1, 0))"
   ]
  },
  {
   "cell_type": "code",
   "execution_count": 14,
   "metadata": {},
   "outputs": [
    {
     "output_type": "execute_result",
     "data": {
      "text/plain": [
       "MeshCat Visualizer with path /meshcat at http://127.0.0.1:8700"
      ]
     },
     "metadata": {},
     "execution_count": 14
    }
   ],
   "source": [
    "# We can also rotate the model by sending a different transformation\n",
    "settransform!(vis, LinearMap(AngleAxis(pi/4, 0, 0, 1)))"
   ]
  },
  {
   "cell_type": "code",
   "execution_count": 15,
   "metadata": {},
   "outputs": [
    {
     "output_type": "execute_result",
     "data": {
      "text/plain": [
       "MeshCat Visualizer with path /meshcat at http://127.0.0.1:8700"
      ]
     },
     "metadata": {},
     "execution_count": 15
    }
   ],
   "source": [
    "# And we can clear the box\n",
    "delete!(vis)"
   ]
  },
  {
   "cell_type": "code",
   "execution_count": 16,
   "metadata": {},
   "outputs": [
    {
     "output_type": "execute_result",
     "data": {
      "text/plain": [
       "MeshCat Visualizer with path /meshcat at http://127.0.0.1:8700"
      ]
     },
     "metadata": {},
     "execution_count": 16
    }
   ],
   "source": [
    "# Next, let's add the same box, but color it green this time.\n",
    "green_material = MeshPhongMaterial(color=RGBA(0, 1, 0, 0.5))\n",
    "setobject!(vis, box, green_material)"
   ]
  },
  {
   "cell_type": "code",
   "execution_count": 17,
   "metadata": {},
   "outputs": [
    {
     "output_type": "execute_result",
     "data": {
      "text/plain": [
       "MeshCat Visualizer with path /meshcat at http://127.0.0.1:8700"
      ]
     },
     "metadata": {},
     "execution_count": 17
    }
   ],
   "source": [
    "delete!(vis)"
   ]
  },
  {
   "cell_type": "markdown",
   "metadata": {},
   "source": [
    "\n",
    "# The Viewer Tree\n",
    "\n",
    "Now that we've introduced the basics of loading and transforming geometries, it's time to introduce the tree model used by MeshCat.jl. The idea is pretty simple:\n",
    "\n",
    "* A Visualizer contains a tree of geometries\n",
    "* We add, draw, and delete geometries by using their path, which is the path from the root of the tree to that geometry\n",
    "* We can set the transform for any node in the tree. Setting the transform for a node in the tree affects all of its descendant geometries.\n",
    "\n"
   ]
  },
  {
   "cell_type": "code",
   "execution_count": 18,
   "metadata": {},
   "outputs": [
    {
     "output_type": "execute_result",
     "data": {
      "text/plain": [
       "MeshCat Visualizer with path /meshcat/group1 at http://127.0.0.1:8700"
      ]
     },
     "metadata": {},
     "execution_count": 18
    }
   ],
   "source": [
    "# We can access a particular path within the visualizer with indexing notation:\n",
    "vis[\"group1\"]"
   ]
  },
  {
   "cell_type": "code",
   "execution_count": 19,
   "metadata": {},
   "outputs": [
    {
     "output_type": "execute_result",
     "data": {
      "text/plain": [
       "MeshCat Visualizer with path /meshcat/group1/greenbox at http://127.0.0.1:8700"
      ]
     },
     "metadata": {},
     "execution_count": 19
    }
   ],
   "source": [
    "# We load geometries using the same path notation:\n",
    "green_box_vis = setobject!(vis[\"group1\"][\"greenbox\"], box, green_material)"
   ]
  },
  {
   "cell_type": "markdown",
   "metadata": {},
   "source": [
    "Click \"open controls\" in the MeshCat viewer. You should see a `meshcat` folder, which you can click to expand:\n",
    "\n",
    "    Scene\n",
    "      | meshcat\n",
    "          | group1\n",
    "              | greenbox\n",
    "\n",
    "  "
   ]
  },
  {
   "cell_type": "code",
   "execution_count": 20,
   "metadata": {},
   "outputs": [
    {
     "output_type": "execute_result",
     "data": {
      "text/plain": [
       "MeshCat Visualizer with path /meshcat/group1/greenbox at http://127.0.0.1:8700"
      ]
     },
     "metadata": {},
     "execution_count": 20
    }
   ],
   "source": [
    "# And we set transforms in the same way:\n",
    "settransform!(green_box_vis, Translation(0, 0, 1))"
   ]
  },
  {
   "cell_type": "code",
   "execution_count": 21,
   "metadata": {},
   "outputs": [
    {
     "output_type": "execute_result",
     "data": {
      "text/plain": [
       "MeshCat Visualizer with path /meshcat/group1 at http://127.0.0.1:8700"
      ]
     },
     "metadata": {},
     "execution_count": 21
    }
   ],
   "source": [
    "# The same indexing notation makes it easy to get a handle to a \n",
    "# particular part of the viewer tree:\n",
    "group1 = vis[\"group1\"]\n",
    "settransform!(group1, Translation(0, 0, -1))"
   ]
  },
  {
   "cell_type": "markdown",
   "metadata": {},
   "source": [
    "The viewer tree becomes much more interesting (and useful) when we have multiple geometries. Let's add another geometry in the same group:"
   ]
  },
  {
   "cell_type": "code",
   "execution_count": 22,
   "metadata": {},
   "outputs": [
    {
     "output_type": "execute_result",
     "data": {
      "text/plain": [
       "MeshCat Visualizer with path /meshcat/group1/bluebox at http://127.0.0.1:8700"
      ]
     },
     "metadata": {},
     "execution_count": 22
    }
   ],
   "source": [
    "blue_material = MeshPhongMaterial(color=RGBA(0, 0, 1, 0.5))\n",
    "setobject!(vis[\"group1\"][\"bluebox\"], box, blue_material)"
   ]
  },
  {
   "cell_type": "markdown",
   "metadata": {},
   "source": [
    "The scene browser will now show:\n",
    "\n",
    "    Scene\n",
    "      | meshcat\n",
    "          | group1\n",
    "              | greenbox\n",
    "              | bluebox"
   ]
  },
  {
   "cell_type": "markdown",
   "metadata": {},
   "source": [
    "Since both the green and blue box are inside `group1`, we can move them together by transforming that whole group:"
   ]
  },
  {
   "cell_type": "code",
   "execution_count": 23,
   "metadata": {},
   "outputs": [
    {
     "output_type": "execute_result",
     "data": {
      "text/plain": [
       "MeshCat Visualizer with path /meshcat/group1 at http://127.0.0.1:8700"
      ]
     },
     "metadata": {},
     "execution_count": 23
    }
   ],
   "source": [
    "settransform!(vis[\"group1\"], Translation(1, 0, 0))"
   ]
  },
  {
   "cell_type": "markdown",
   "metadata": {},
   "source": [
    "Or we can move just the green box:"
   ]
  },
  {
   "cell_type": "code",
   "execution_count": 24,
   "metadata": {},
   "outputs": [
    {
     "output_type": "execute_result",
     "data": {
      "text/plain": [
       "MeshCat Visualizer with path /meshcat/group1/greenbox at http://127.0.0.1:8700"
      ]
     },
     "metadata": {},
     "execution_count": 24
    }
   ],
   "source": [
    "settransform!(vis[\"group1\"][\"greenbox\"], Translation(0, 1, 0))"
   ]
  },
  {
   "cell_type": "markdown",
   "metadata": {},
   "source": [
    "The final pose of each geometry in the tree is just the composition of all of the transforms in the path from the root of the tree to that geometry. "
   ]
  },
  {
   "cell_type": "markdown",
   "metadata": {},
   "source": [
    "Likewise, we can delete an entire group:"
   ]
  },
  {
   "cell_type": "code",
   "execution_count": 25,
   "metadata": {},
   "outputs": [
    {
     "output_type": "execute_result",
     "data": {
      "text/plain": [
       "MeshCat Visualizer with path /meshcat/group1 at http://127.0.0.1:8700"
      ]
     },
     "metadata": {},
     "execution_count": 25
    }
   ],
   "source": [
    "delete!(vis[\"group1\"])"
   ]
  },
  {
   "cell_type": "code",
   "execution_count": 26,
   "metadata": {},
   "outputs": [
    {
     "output_type": "error",
     "ename": "LoadError",
     "evalue": "ArgumentError: Package MeshIO not found in current path:\n- Run `import Pkg; Pkg.add(\"MeshIO\")` to install the MeshIO package.\n",
     "traceback": [
      "ArgumentError: Package MeshIO not found in current path:\n- Run `import Pkg; Pkg.add(\"MeshIO\")` to install the MeshIO package.\n",
      "",
      "Stacktrace:",
      " [1] require(::Module, ::Symbol) at .\\loading.jl:893",
      " [2] include_string(::Function, ::Module, ::String, ::String) at .\\loading.jl:1091"
     ]
    }
   ],
   "source": [
    "# Of course, we can draw much more interesting geometries than \n",
    "# just simple boxes. Let's load a 3D mesh and visualize it:\n",
    "using MeshIO\n",
    "using FileIO\n",
    "cat_mesh = load(joinpath(dirname(pathof(MeshCat)), \"..\", \"test\", \"data\", \"meshes\",\n",
    "        \"cat.obj\"))\n",
    "setobject!(vis, cat_mesh)\n",
    "settransform!(vis, LinearMap(AngleAxis(pi/2, 1, 0, 0)))"
   ]
  },
  {
   "cell_type": "code",
   "execution_count": 27,
   "metadata": {},
   "outputs": [
    {
     "output_type": "error",
     "ename": "LoadError",
     "evalue": "ArgumentError: Package Meshing not found in current path:\n- Run `import Pkg; Pkg.add(\"Meshing\")` to install the Meshing package.\n",
     "traceback": [
      "ArgumentError: Package Meshing not found in current path:\n- Run `import Pkg; Pkg.add(\"Meshing\")` to install the Meshing package.\n",
      "",
      "Stacktrace:",
      " [1] require(::Module, ::Symbol) at .\\loading.jl:893",
      " [2] include_string(::Function, ::Module, ::String, ::String) at .\\loading.jl:1091"
     ]
    }
   ],
   "source": [
    "delete!(vis)\n",
    "\n",
    "# Next, let's create a triangulated mesh by finding\n",
    "# the 0-level set of some function. \n",
    "# \n",
    "# First, we'll define our function:\n",
    "f = x -> sum(sin, 5 * x)\n",
    "\n",
    "# Then we pick a region of interest in which to sample the function.\n",
    "# This region starts at (-1, -1, -1) and extends to (1, 1, 1):\n",
    "lower_bound = Vec(-1.,-1,-1)\n",
    "upper_bound = Vec(1., 1, 1)\n",
    "\n",
    "# Those two pieces of information are all we need to construct a mesh geometry.\n",
    "#\n",
    "# Using `Meshing.jl`, we can construct a mesh directly from our function:\n",
    "using Meshing: MarchingCubes\n",
    "\n",
    "bounds = HyperRectangle(lower_bound, upper_bound - lower_bound)\n",
    "mesh = Mesh(f, bounds, MarchingCubes())\n",
    "\n",
    "# # geometry. First, we sample the function f using GeometryTypes.SignedDistanceField:\n",
    "\n",
    "# sdf = SignedDistanceField(f, bounds)\n",
    "\n",
    "# # Now we use the Marching Tetrahedra algorithm to find a mesh describing\n",
    "# # the surface for which f(x) == 0\n",
    "# using Meshing: MarchingTetrahedra\n",
    "\n",
    "# mesh = HomogenousMesh(sdf, MarchingTetrahedra())\n",
    "\n",
    "# And now we can load that geometry into the visualizer\n",
    "setobject!(vis, mesh)"
   ]
  },
  {
   "cell_type": "markdown",
   "metadata": {},
   "source": [
    "# More Geometry Types\n",
    "\n",
    "`MeshCat.jl` supports a few extra types of geometry that you may want to visualize. One such geometry is a point cloud: "
   ]
  },
  {
   "cell_type": "markdown",
   "metadata": {},
   "source": [
    "## Point Clouds\n",
    "\n",
    "A PointCloud can be constructed from a vector of points. The easiest way to represent a point is just a standard Julia vector:"
   ]
  },
  {
   "cell_type": "code",
   "execution_count": 28,
   "metadata": {},
   "outputs": [
    {
     "output_type": "execute_result",
     "data": {
      "text/plain": [
       "MeshCat Visualizer with path /meshcat/pointcloud at http://127.0.0.1:8700"
      ]
     },
     "metadata": {},
     "execution_count": 28
    }
   ],
   "source": [
    "delete!(vis)\n",
    "pointcloud = PointCloud([[x, 0 + 0.01 * randn(), 0.5] for x in range(-1, stop=1, length=1000)])\n",
    "setobject!(vis[:pointcloud], pointcloud)"
   ]
  },
  {
   "cell_type": "markdown",
   "metadata": {},
   "source": [
    "For a much more efficient point cloud, try using a vector of `StaticVector`s from StaticArrays.jl. The `Point3f0` is one such static vector:\n"
   ]
  },
  {
   "cell_type": "code",
   "execution_count": 29,
   "metadata": {},
   "outputs": [
    {
     "output_type": "execute_result",
     "data": {
      "text/plain": [
       "MeshCat Visualizer with path /meshcat/pointcloud at http://127.0.0.1:8700"
      ]
     },
     "metadata": {},
     "execution_count": 29
    }
   ],
   "source": [
    "using GeometryBasics: Point3f0\n",
    "points = rand(Point3f0, 1000000)\n",
    "setobject!(vis[:pointcloud], PointCloud(points))"
   ]
  },
  {
   "cell_type": "markdown",
   "metadata": {},
   "source": [
    "You can also color each point by passing a vector of `RGB{Float32}` elements to `PointCloud`:"
   ]
  },
  {
   "cell_type": "code",
   "execution_count": 30,
   "metadata": {},
   "outputs": [
    {
     "output_type": "execute_result",
     "data": {
      "text/plain": [
       "MeshCat Visualizer with path /meshcat/pointcloud at http://127.0.0.1:8700"
      ]
     },
     "metadata": {},
     "execution_count": 30
    }
   ],
   "source": [
    "colors = reinterpret(RGB{Float32}, points); # use the xyz value as rgb color\n",
    "setobject!(vis[:pointcloud], PointCloud(points, colors))"
   ]
  },
  {
   "cell_type": "markdown",
   "metadata": {},
   "source": [
    "## Textured Meshes\n",
    "\n",
    "Meshes can be textured by passing a `Texture` parameter to the material constructor. Currently, the only supported texture type is `PngImage`, which simply transmits the data from an image as base64-encoded PNG data. "
   ]
  },
  {
   "cell_type": "code",
   "execution_count": 31,
   "metadata": {},
   "outputs": [
    {
     "output_type": "error",
     "ename": "LoadError",
     "evalue": "UndefVarError: load not defined",
     "traceback": [
      "UndefVarError: load not defined",
      "",
      "Stacktrace:",
      " [1] top-level scope at In[31]:5",
      " [2] include_string(::Function, ::Module, ::String, ::String) at .\\loading.jl:1091"
     ]
    }
   ],
   "source": [
    "image = PngImage(\n",
    "    joinpath(MeshCat.VIEWER_ROOT, \"..\", \"data\", \"HeadTextureMultisense.png\"))\n",
    "texture = Texture(image=image)\n",
    "material = MeshLambertMaterial(map=texture)\n",
    "geometry = load(joinpath(MeshCat.VIEWER_ROOT, \"..\", \"data\", \"head_multisense.obj\"))\n",
    "setobject!(vis[\"robots\", \"valkyrie\", \"head\"], geometry, material)\n",
    "settransform!(vis[\"robots\", \"valkyrie\"], Translation(0.5, -0.5, 0.5))"
   ]
  },
  {
   "cell_type": "markdown",
   "metadata": {},
   "source": [
    "## Mesh Files\n",
    "\n",
    "While MeshCat should be able to render any mesh you can load as any kind of `GeometryBasics.AbstractMesh`, there are a wide variety of mesh file formas, and not all of them can be easily loaded in Julia right now. For OBJ, DAE, and STL (ASCII and binary) meshes, there is an additional option: The `MeshFileGeometry` type passes a raw mesh file directly to the MeshCat viewer, letting the existing mesh decoders built into that viewer take care of loading the data for you. For example: "
   ]
  },
  {
   "cell_type": "code",
   "execution_count": 32,
   "metadata": {},
   "outputs": [
    {
     "output_type": "error",
     "ename": "LoadError",
     "evalue": "SystemError: opening file \"d:\\\\Users\\\\Personal\\\\Personal\\\\Projects\\\\GitRepo\\\\LearnJulia\\\\Ex\\\\..\\\\test\\\\data\\\\meshes\\\\cube.dae\": No such file or directory",
     "traceback": [
      "SystemError: opening file \"d:\\\\Users\\\\Personal\\\\Personal\\\\Projects\\\\GitRepo\\\\LearnJulia\\\\Ex\\\\..\\\\test\\\\data\\\\meshes\\\\cube.dae\": No such file or directory",
      "",
      "Stacktrace:",
      " [1] systemerror(::String, ::Int32; extrainfo::Nothing) at .\\error.jl:168",
      " [2] #systemerror#48 at .\\error.jl:167 [inlined]",
      " [3] systemerror at .\\error.jl:167 [inlined]",
      " [4] open(::String; lock::Bool, read::Nothing, write::Nothing, create::Nothing, truncate::Nothing, append::Nothing) at .\\iostream.jl:284",
      " [5] open at .\\iostream.jl:273 [inlined]",
      " [6] open(::MeshCat.var\"#7#8\", ::String; kwargs::Base.Iterators.Pairs{Union{},Union{},Tuple{},NamedTuple{(),Tuple{}}}) at .\\io.jl:323",
      " [7] open at .\\io.jl:323 [inlined]",
      " [8] MeshFileGeometry(::String) at C:\\Users\\dengy\\.julia\\packages\\MeshCat\\DjQfQ\\src\\mesh_files.jl:25",
      " [9] top-level scope at In[32]:2",
      " [10] include_string(::Function, ::Module, ::String, ::String) at .\\loading.jl:1091"
     ]
    }
   ],
   "source": [
    "path = joinpath(@__DIR__, \"..\", \"test\", \"data\", \"meshes\", \"cube.dae\")\n",
    "setobject!(vis[\"meshes\", \"dae_file_geometry\"], \n",
    "    MeshFileGeometry(path))\n",
    "settransform!(vis[\"meshes\", \"dae_file_geometry\"], \n",
    "    Translation(0.0, 1.25, 0.0))"
   ]
  },
  {
   "cell_type": "markdown",
   "metadata": {},
   "source": [
    "Note that in this case only the *geometry* of the mesh is loaded. \n",
    "\n",
    "# Mesh File Objects\n",
    "\n",
    "Certain kinds of meshes, like OBJ and DAE files, can contain meshes with associated textures or even multiple such objects in a single file. To render a mesh file, including all of its associated materials and textures, you can use the `MeshFileObject` type, which passes the entire mesh file contents *and its associated materials* to the MeshCat viewer, again letting the built-in decoders handle all of the data loading."
   ]
  },
  {
   "cell_type": "code",
   "execution_count": 33,
   "metadata": {},
   "outputs": [
    {
     "output_type": "error",
     "ename": "LoadError",
     "evalue": "SystemError: opening file \"d:\\\\Users\\\\Personal\\\\Personal\\\\Projects\\\\GitRepo\\\\LearnJulia\\\\Ex\\\\..\\\\test\\\\data\\\\meshes\\\\cube.dae\": No such file or directory",
     "traceback": [
      "SystemError: opening file \"d:\\\\Users\\\\Personal\\\\Personal\\\\Projects\\\\GitRepo\\\\LearnJulia\\\\Ex\\\\..\\\\test\\\\data\\\\meshes\\\\cube.dae\": No such file or directory",
      "",
      "Stacktrace:",
      " [1] systemerror(::String, ::Int32; extrainfo::Nothing) at .\\error.jl:168",
      " [2] #systemerror#48 at .\\error.jl:167 [inlined]",
      " [3] systemerror at .\\error.jl:167 [inlined]",
      " [4] open(::String; lock::Bool, read::Nothing, write::Nothing, create::Nothing, truncate::Nothing, append::Nothing) at .\\iostream.jl:284",
      " [5] open at .\\iostream.jl:273 [inlined]",
      " [6] open(::MeshCat.var\"#9#10\", ::String; kwargs::Base.Iterators.Pairs{Union{},Union{},Tuple{},NamedTuple{(),Tuple{}}}) at .\\io.jl:323",
      " [7] open at .\\io.jl:323 [inlined]",
      " [8] MeshFileObject(::String) at C:\\Users\\dengy\\.julia\\packages\\MeshCat\\DjQfQ\\src\\mesh_files.jl:65",
      " [9] top-level scope at In[33]:3",
      " [10] include_string(::Function, ::Module, ::String, ::String) at .\\loading.jl:1091"
     ]
    }
   ],
   "source": [
    "path = joinpath(@__DIR__, \"..\", \"test\", \"data\", \"meshes\", \"cube.dae\")\n",
    "\n",
    "setobject!(vis[\"meshes\", \"dae_file_object\"], \n",
    "    MeshFileObject(path))\n",
    "settransform!(vis[\"meshes\", \"dae_file_object\"], \n",
    "    Translation(0.0, 2.5, 0.0))"
   ]
  }
 ],
 "metadata": {
  "@webio": {
   "lastCommId": null,
   "lastKernelId": null
  },
  "kernelspec": {
   "display_name": "Julia 1.5.3",
   "language": "julia",
   "name": "julia-1.5"
  },
  "language_info": {
   "file_extension": ".jl",
   "mimetype": "application/julia",
   "name": "julia",
   "version": "1.5.1"
  }
 },
 "nbformat": 4,
 "nbformat_minor": 2
}