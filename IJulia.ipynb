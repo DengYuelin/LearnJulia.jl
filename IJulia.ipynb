{
 "metadata": {
  "language_info": {
   "codemirror_mode": {
    "name": "ipython",
    "version": 3
   },
   "file_extension": ".py",
   "mimetype": "text/x-python",
   "name": "python",
   "nbconvert_exporter": "python",
   "pygments_lexer": "ipython3",
   "version": "3.7.5-final"
  },
  "orig_nbformat": 2,
  "kernelspec": {
   "name": "julia-1.5",
   "display_name": "Julia 1.5.3",
   "language": "julia"
  }
 },
 "nbformat": 4,
 "nbformat_minor": 2,
 "cells": [
  {
   "source": [
    "using MeshCat\n",
    "vis = Visualizer()"
   ],
   "cell_type": "code",
   "metadata": {},
   "execution_count": null,
   "outputs": []
  },
  {
   "source": [
    "## Open Web version"
   ],
   "cell_type": "markdown",
   "metadata": {}
  },
  {
   "cell_type": "code",
   "execution_count": null,
   "metadata": {},
   "outputs": [],
   "source": [
    "open(vis)"
   ]
  },
  {
   "source": [
    "## Display in notebook"
   ],
   "cell_type": "markdown",
   "metadata": {}
  },
  {
   "cell_type": "code",
   "execution_count": null,
   "metadata": {},
   "outputs": [],
   "source": [
    "IJuliaCell(vis)"
   ]
  },
  {
   "source": [
    "### Cube"
   ],
   "cell_type": "markdown",
   "metadata": {}
  },
  {
   "source": [
    "using GeometryTypes\n",
    "using CoordinateTransformations\n",
    "\n",
    "setobject!(vis, HyperRectangle(Vec(0., 0, 0), Vec(1., 1, 1)))\n",
    "settransform!(vis, Translation(-0.5, -0.5, 0))"
   ],
   "cell_type": "code",
   "metadata": {},
   "execution_count": null,
   "outputs": []
  },
  {
   "cell_type": "code",
   "execution_count": null,
   "metadata": {},
   "outputs": [],
   "source": []
  }
 ]
}